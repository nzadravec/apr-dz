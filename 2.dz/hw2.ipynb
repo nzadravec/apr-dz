{
 "cells": [
  {
   "cell_type": "code",
   "execution_count": 9,
   "metadata": {},
   "outputs": [
    {
     "name": "stdout",
     "output_type": "stream",
     "text": [
      "Populating the interactive namespace from numpy and matplotlib\n"
     ]
    },
    {
     "name": "stderr",
     "output_type": "stream",
     "text": [
      "/usr/local/lib/python3.5/dist-packages/IPython/core/magics/pylab.py:160: UserWarning: pylab import has clobbered these variables: ['sqrt', 'sin', 'f']\n",
      "`%matplotlib` prevents importing * from pylab and numpy\n",
      "  \"\\n`%matplotlib` prevents importing * from pylab and numpy\"\n"
     ]
    }
   ],
   "source": [
    "import fminbnd\n",
    "import fminsearch\n",
    "from functions import *\n",
    "import numpy as np\n",
    "import matplotlib.pyplot as plt\n",
    "%pylab inline"
   ]
  },
  {
   "cell_type": "code",
   "execution_count": 2,
   "metadata": {},
   "outputs": [
    {
     "name": "stdout",
     "output_type": "stream",
     "text": [
      "[ 0.] 1.0\n"
     ]
    }
   ],
   "source": [
    "counter = [-1]\n",
    "def f(x, c=counter):\n",
    "    c[0] += 1\n",
    "    return f3(x)\n",
    "\n",
    "y = fminsearch.simplex(f, [10])\n",
    "print(y, f(y))"
   ]
  },
  {
   "cell_type": "code",
   "execution_count": 3,
   "metadata": {},
   "outputs": [
    {
     "name": "stdout",
     "output_type": "stream",
     "text": [
      "1.000000141026334 1.988842686570806e-14\n"
     ]
    }
   ],
   "source": [
    "counter = [-1]\n",
    "def f(x, c=counter):\n",
    "    c[0] += 1\n",
    "    return f3(x)\n",
    "\n",
    "y = fminbnd.search(f, 10)\n",
    "print(y, f(y))"
   ]
  },
  {
   "cell_type": "raw",
   "metadata": {},
   "source": [
    "1. Definirajte jednodimenzijsku funkciju br. 3, koja će imati minimum u točki 3. Kao početnu točku pretraživanja postavite točku 10. Primijenite sve postupke na rješavanje ove funkcije te ispišite pronađeni minimum i broj evaluacija funkcije za svaki pojedini postupak. Probajte sve više udaljavati početnu točku od minimuma i probajte ponovo pokrenuti navedene postupke. Što možete zaključiti? "
   ]
  },
  {
   "cell_type": "code",
   "execution_count": 27,
   "metadata": {},
   "outputs": [
    {
     "name": "stdout",
     "output_type": "stream",
     "text": [
      "golden ratio            coord search            simplex                 hj                     \n",
      "  43 [1.000000]          83 [1.000000]          14 [0.000000]         132 [1.000000]\n",
      "  53 [1.000000]          93 [1.000000]          35 [0.000000]         227 [1.000000]\n",
      "  56 [1.000000]          95 [1.000000]          41 [0.000000]         280 [1.000000]\n",
      "  56 [1.000000]          95 [1.000000]          41 [0.000000]         293 [1.000000]\n",
      "  58 [1.000000]          97 [1.000000]          47 [0.000000]         293 [1.000000]\n",
      "  58 [1.000000]          97 [1.000000]          47 [0.000000]         359 [1.000000]\n",
      "  58 [1.000000]          97 [1.000000]          47 [0.000000]         354 [1.000000]\n",
      "  58 [1.000000]          97 [1.000000]          50 [0.000000]         391 [1.000000]\n",
      "  60 [1.000000]         100 [1.000000]          53 [0.000000]         418 [1.000000]\n"
     ]
    },
    {
     "data": {
      "image/png": "[encoded data removed]",
      "text/plain": [
       "<matplotlib.figure.Figure at 0x7f5a96cd4748>"
      ]
     },
     "metadata": {},
     "output_type": "display_data"
    }
   ],
   "source": [
    "counter = [-1]\n",
    "def f(x, c=counter):\n",
    "    c[0] += 1\n",
    "    return f3(x)\n",
    "\n",
    "alg1 = list()\n",
    "alg2 = list()\n",
    "alg3 = list()\n",
    "alg4 = list()\n",
    "\n",
    "for i in range(10,1000, 100):\n",
    "    \n",
    "    x = [i]\n",
    "    \n",
    "    counter[0] = -1\n",
    "    f(0, counter)\n",
    "    y = fminbnd.search(f, i)\n",
    "    alg1.append((y, counter[0]))\n",
    "    \n",
    "    counter[0] = -1\n",
    "    f(0, counter)\n",
    "    y = fminsearch.coordinateSearch(f, x)\n",
    "    alg2.append((y, counter[0]))\n",
    "    \n",
    "    counter[0] = -1\n",
    "    f(0, counter)\n",
    "    y = fminsearch.simplex(f, x)\n",
    "    alg3.append((y, counter[0]))\n",
    "    \n",
    "    counter[0] = -1\n",
    "    f(0, counter)\n",
    "    y = fminsearch.hj(f, x)\n",
    "    alg4.append((y, counter[0]))\n",
    "    \n",
    "print(\"{0:<23s} {1:<23s} {2:<23s} {3:<23s}\".format(\"golden ratio\", \"coord search\", \"simplex\", \"hj\"))\n",
    "\n",
    "\n",
    "\n",
    "for i in range(9): \n",
    "    print(\"%4d [%f]        %4d [%f]        %4d [%f]        %4d [%f]\" % (\n",
    "        alg1[i][1], alg1[i][0],alg2[i][1], alg2[i][0],\n",
    "        alg3[i][1], alg3[i][0],alg4[i][1], alg4[i][0]))\n",
    "\n",
    "plt.plot(range(10,1000, 100), [j for _, j in alg1], label=\"golden ratio\")\n",
    "plt.plot(range(10,1000, 100), [j for _, j in alg2], label=\"coord search\")\n",
    "plt.plot(range(10,1000, 100), [j for _, j in alg3], label=\"simplex\")\n",
    "plt.plot(range(10,1000, 100), [j for _, j in alg4], label=\"hj\")\n",
    "plt.legend();\n",
    "    "
   ]
  },
  {
   "cell_type": "raw",
   "metadata": {},
   "source": [
    "2. Primijenite simpleks po Nelderu i Meadu, Hooke-Jeeves postupak te pretraživanje po koordinatnim osima na funkcije 1-4 uz zadane parametre i početne točke (broj varijabli funkcije 3 najmanje 5). Za svaki postupak i svaku funkciju odredite minimum koji su postupci pronašli i potrebni broj evaluacija funkcije cilja koji je potreban do konvergencije (prikažite tablično). Što možete zaključiti iz rezultata? "
   ]
  },
  {
   "cell_type": "code",
   "execution_count": 32,
   "metadata": {},
   "outputs": [
    {
     "name": "stdout",
     "output_type": "stream",
     "text": [
      "f1 start_point [-1.9, 2] solution [1, 1]\n",
      "240555 [ 1.00030636  1.000613  ] coord search\n",
      "220 [ 1.00073193  1.00136687] simplex\n",
      "694 [ 1.00000153  1.00000381] hj\n",
      "\n",
      "f2 start_point [0.1, 0.3] solution [4, 2]\n",
      "157 [ 3.99999979  2.00000011] coord search\n",
      "94 [ 3.99974222  1.99979192] simplex\n",
      "305 [ 3.99999962  2.00000076] hj\n",
      "\n",
      "f3 start_point [0, 0, 0, 0, 0] solution [1, 2, 3, 4, 5]\n",
      "393 [ 0.99999995  1.99999991  3.00000024  3.99999997  5.        ] coord search\n",
      "277 [ 1.00112705  2.00032232  3.00036869  4.00133969  4.99935892] simplex\n",
      "427 [ 1.  2.  3.  4.  5.] hj\n",
      "\n",
      "f4 start_point [5.1, 1.1] solution [0, 0]\n",
      "154 [-1.09999965  1.09999951] coord search\n",
      "190 [  4.14912222e-08  -1.41202741e-06] simplex\n",
      "172 [ 3.1  3.1] hj\n",
      "\n"
     ]
    }
   ],
   "source": [
    "\n",
    "alg2 = list()\n",
    "alg3 = list()\n",
    "alg4 = list()\n",
    "\n",
    "data = np.array\n",
    "\n",
    "fs = [f1, f2, f3, f4]\n",
    "points = [[-1.9, 2], [0.1, 0.3], [0, 0, 0, 0, 0], [5.1, 1.1]]\n",
    "xmins = [[1, 1], [4, 2], [1, 2, 3, 4, 5], [0, 0]]\n",
    "\n",
    "for i in range(4):\n",
    "\n",
    "    counter = [-1]\n",
    "    def f(x, c=counter):\n",
    "        c[0] += 1\n",
    "        return fs[i](x)\n",
    "\n",
    "    counter[0] = -1\n",
    "    f(points[i], counter)\n",
    "    y = fminsearch.coordinateSearch(f, points[i])\n",
    "    alg2.append((y, counter[0]))\n",
    "\n",
    "    counter[0] = -1\n",
    "    f(points[i], counter)\n",
    "    y = fminsearch.simplex(f, points[i])\n",
    "    alg3.append((y, counter[0]))\n",
    "\n",
    "    counter[0] = -1\n",
    "    f(points[i], counter)\n",
    "    y = fminsearch.hj(f, points[i])\n",
    "    alg4.append((y, counter[0]))\n",
    "    \n",
    "\n",
    "    \n",
    "for i in range(4):\n",
    "    print('f'+str(i+1), \"start_point\", points[i],'solution', xmins[i])\n",
    "    print(alg2[i][1], alg2[i][0], 'coord search')\n",
    "    print(alg3[i][1], alg3[i][0], 'simplex')\n",
    "    print(alg4[i][1], alg4[i][0], 'hj')\n",
    "    print()"
   ]
  },
  {
   "cell_type": "raw",
   "metadata": {},
   "source": [
    "3. Primijenite postupak Hooke-Jeeves i simpleks po Nelderu i Meadu na funkciju 4 uz početnu točku (5, 5). Objasnite rezultate! "
   ]
  },
  {
   "cell_type": "code",
   "execution_count": 7,
   "metadata": {},
   "outputs": [
    {
     "name": "stdout",
     "output_type": "stream",
     "text": [
      "[ 5.  5.] 152\n",
      "[ -1.79474181e-08  -1.38744817e-06] 197\n"
     ]
    }
   ],
   "source": [
    "counter = [-1]\n",
    "def f(x, c=counter):\n",
    "    c[0] += 1\n",
    "    return f4(x)\n",
    "\n",
    "counter[0] = -1\n",
    "f(points[i], counter)\n",
    "y = fminsearch.hj(f, (5,5))\n",
    "print(y, counter[0])\n",
    "\n",
    "counter[0] = -1\n",
    "f(points[i], counter)\n",
    "y = fminsearch.simplex(f, (5,5))\n",
    "print(y, counter[0])"
   ]
  },
  {
   "cell_type": "raw",
   "metadata": {},
   "source": [
    "4. Primijenite simpleks po Nelderu i Meadu na funkciju 1. Kao početnu točku postavite točku (0.5,0.5). Provedite postupak s nekoliko različitih koraka za generiranje početnog simpleksa (primjerice iz intervala od 1 do 20) i zabilježite potreban broj evaluacija funkcije cilja i pronađene točke minimuma. Potom probajte kao početnu točku postaviti točku (20,20) i ponovo provesti eksperiment. Što možete zaključiti? "
   ]
  },
  {
   "cell_type": "code",
   "execution_count": 30,
   "metadata": {},
   "outputs": [
    {
     "name": "stdout",
     "output_type": "stream",
     "text": [
      "shift: 1\t94 [ 0.9994787   0.99894157]\t610 [ 0.99970175  0.99941502]\n",
      "shift: 2\t242 [ 0.99973039  0.99952886]\t537 [ 1.00112242  1.00218966]\n",
      "shift: 3\t152 [ 0.99960984  0.99912811]\t453 [ 0.99980652  0.99955928]\n",
      "shift: 4\t148 [ 1.00016212  1.00028865]\t508 [ 0.99926661  0.99860076]\n",
      "shift: 5\t150 [ 0.99929613  0.99858725]\t416 [ 1.00020555  1.00048782]\n",
      "shift: 6\t292 [ 0.99931072  0.99862715]\t452 [ 1.00063567  1.0011855 ]\n",
      "shift: 7\t136 [ 1.00046309  1.00086351]\t366 [ 0.99967548  0.99942588]\n",
      "shift: 8\t186 [ 1.00049443  1.00095679]\t361 [ 0.99986496  0.99981544]\n",
      "shift: 9\t149 [ 1.00076178  1.00152497]\t533 [ 1.00024763  1.00049313]\n",
      "shift: 10\t135 [ 1.00028962  1.00049105]\t483 [ 0.99949987  0.99892324]\n",
      "shift: 11\t148 [ 1.00025203  1.00047015]\t309 [ 0.99974053  0.99942803]\n",
      "shift: 12\t151 [ 0.99971831  0.9994999 ]\t451 [ 1.00095116  1.00187186]\n",
      "shift: 13\t315 [ 1.00070549  1.00133069]\t493 [ 0.99995545  0.99997553]\n",
      "shift: 14\t145 [ 0.99965268  0.99926794]\t437 [ 1.00048869  1.00090299]\n",
      "shift: 15\t138 [ 1.00029674  1.00057525]\t403 [ 0.99979611  0.99952425]\n",
      "shift: 16\t157 [ 0.99912955  0.99827396]\t183 [ 1.00067114  1.00132511]\n",
      "shift: 17\t142 [ 1.00057109  1.0011283 ]\t508 [ 0.99967525  0.99928972]\n",
      "shift: 18\t137 [ 1.00101201  1.00204424]\t493 [ 0.99949774  0.9990388 ]\n",
      "shift: 19\t152 [ 0.99940243  0.99881419]\t505 [ 1.00081025  1.00167351]\n",
      "shift: 20\t188 [ 1.00038773  1.0008972 ]\t519 [ 1.00050049  1.00092423]\n"
     ]
    },
    {
     "data": {
      "text/plain": [
       "[<matplotlib.lines.Line2D at 0x7f5a96b78518>]"
      ]
     },
     "execution_count": 30,
     "metadata": {},
     "output_type": "execute_result"
    },
    {
     "data": {
      "image/png": "[encoded data removed]",
      "text/plain": [
       "<matplotlib.figure.Figure at 0x7f5a96b2fa20>"
      ]
     },
     "metadata": {},
     "output_type": "display_data"
    }
   ],
   "source": [
    "counter = [-1]\n",
    "def f(x, c=counter):\n",
    "    c[0] += 1\n",
    "    return f1(x)\n",
    "\n",
    "list1 = list()\n",
    "list2 = list()\n",
    "\n",
    "for i in range(1, 21):\n",
    "    \n",
    "    print(\"shift:\", i, end=\"\\t\")\n",
    "    \n",
    "    counter[0] = -1\n",
    "    y = fminsearch.simplex(f, x0=(0.5, 0.5), shift = i)\n",
    "    \n",
    "    print(counter[0], y, end=\"\\t\")\n",
    "    list1.append(counter[0])\n",
    "    \n",
    "    \n",
    "    counter[0] = -1\n",
    "    y = fminsearch.simplex(f, x0=(20, 20), shift = i)\n",
    "    \n",
    "    print(counter[0], y)\n",
    "    list2.append(counter[0])\n",
    "\n",
    "plt.figure(figsize=(8, 8))\n",
    "\n",
    "plt.plot(range(1, 21), list1)\n",
    "plt.plot(range(1, 21), list2)"
   ]
  },
  {
   "cell_type": "raw",
   "metadata": {},
   "source": [
    "5. Primijenite jedan postupak optimizacije na funkciju 6 u dvije dimenzije, tako da postupak pokrećete više puta iz slučajno odabrane početne točke u intervalu [-50,50]. Možete li odrediti vjerojatnost pronalaženja globalnog optimuma na ovaj način? (smatramo da je algoritam locirao globalni minimum ako je nađena vrijednost funkcije cilja manja od 1e-4)."
   ]
  },
  {
   "cell_type": "code",
   "execution_count": 6,
   "metadata": {},
   "outputs": [],
   "source": [
    "from random import randint"
   ]
  },
  {
   "cell_type": "code",
   "execution_count": 31,
   "metadata": {},
   "outputs": [
    {
     "name": "stdout",
     "output_type": "stream",
     "text": [
      "0.03698730965405769 %\n"
     ]
    }
   ],
   "source": [
    "\n",
    "counter = 0\n",
    "for i in range(100):\n",
    "    while(True):\n",
    "        counter+=1\n",
    "        point = (randint(-50, 50), randint(-50, 50))\n",
    "        y = fminsearch.simplex(f6, x0=point)\n",
    "        if f6(y) < 1e-4:\n",
    "            break\n",
    "        \n",
    "print((100/counter)*100, '%')\n"
   ]
  },
  {
   "cell_type": "code",
   "execution_count": null,
   "metadata": {},
   "outputs": [],
   "source": []
  }
 ],
 "metadata": {
  "kernelspec": {
   "display_name": "Python 3",
   "language": "python",
   "name": "python3"
  },
  "language_info": {
   "codemirror_mode": {
    "name": "ipython",
    "version": 3
   },
   "file_extension": ".py",
   "mimetype": "text/x-python",
   "name": "python",
   "nbconvert_exporter": "python",
   "pygments_lexer": "ipython3",
   "version": "3.5.2"
  }
 },
 "nbformat": 4,
 "nbformat_minor": 2
}
