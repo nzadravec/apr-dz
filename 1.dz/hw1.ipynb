{
 "cells": [
  {
   "cell_type": "markdown",
   "metadata": {},
   "source": [
    "# 1. DOMAĆA ZADAĆA"
   ]
  },
  {
   "cell_type": "code",
   "execution_count": 1,
   "metadata": {},
   "outputs": [],
   "source": [
    "from matrix import Matrix"
   ]
  },
  {
   "cell_type": "code",
   "execution_count": 9,
   "metadata": {},
   "outputs": [
    {
     "name": "stdout",
     "output_type": "stream",
     "text": [
      "         6        18        12\n",
      "         8        24        24\n",
      "         2        -2         2\n",
      "\n"
     ]
    }
   ],
   "source": [
    "A = Matrix.create(\"a1.txt\")\n",
    "print(A * 2)"
   ]
  },
  {
   "cell_type": "code",
   "execution_count": 3,
   "metadata": {},
   "outputs": [
    {
     "name": "stdout",
     "output_type": "stream",
     "text": [
      "         3         9         6\n",
      "         4        12        12\n",
      "         1        -1         1\n",
      "\n",
      "       0.5     -0.31      0.75\n",
      "      0.17    -0.062     -0.25\n",
      "     -0.33      0.25        -0\n",
      "\n",
      "         1         0         0\n",
      "         0         1         0\n",
      "   5.6e-17         0         1\n",
      "\n",
      "         1         0         0\n",
      "         0         1         0\n",
      "         0         0         1\n",
      "\n"
     ]
    }
   ],
   "source": [
    "A = Matrix.create(\"a1.txt\")\n",
    "print(A)\n",
    "A_inv = A.inv()\n",
    "print(A_inv)\n",
    "print(A * A_inv)\n",
    "print(A_inv * A)"
   ]
  },
  {
   "cell_type": "code",
   "execution_count": null,
   "metadata": {},
   "outputs": [],
   "source": []
  },
  {
   "cell_type": "markdown",
   "metadata": {},
   "source": [
    "Primjer uporabe uz nadgrađene operatore u Pythonu:"
   ]
  },
  {
   "cell_type": "code",
   "execution_count": 2,
   "metadata": {},
   "outputs": [],
   "source": [
    "A = Matrix.create(\"a1.txt\")\n",
    "B = Matrix.create(\"a1.txt\")\n",
    "C = A.transpose()\n",
    "C += A * 0.5 * B * (A - 2 * B)"
   ]
  },
  {
   "cell_type": "code",
   "execution_count": 3,
   "metadata": {},
   "outputs": [
    {
     "name": "stdout",
     "output_type": "stream",
     "text": [
      "(3, 3)\n"
     ]
    }
   ],
   "source": [
    "print(A.shape)"
   ]
  },
  {
   "cell_type": "code",
   "execution_count": 4,
   "metadata": {},
   "outputs": [
    {
     "name": "stdout",
     "output_type": "stream",
     "text": [
      "    -4e+02  -9.3e+02  -9.9e+02\n",
      "  -5.2e+02  -1.2e+03  -1.3e+03\n",
      "        16        34        28\n",
      "\n"
     ]
    }
   ],
   "source": [
    "print(C)"
   ]
  },
  {
   "cell_type": "code",
   "execution_count": 5,
   "metadata": {},
   "outputs": [
    {
     "data": {
      "text/plain": [
       "-397.5"
      ]
     },
     "execution_count": 5,
     "metadata": {},
     "output_type": "execute_result"
    }
   ],
   "source": [
    "x = C[0,0]\n",
    "x"
   ]
  },
  {
   "cell_type": "code",
   "execution_count": 6,
   "metadata": {},
   "outputs": [
    {
     "name": "stdout",
     "output_type": "stream",
     "text": [
      "    -4e+02  -9.3e+02  -9.9e+02\n",
      "  -5.2e+02    -4e+02  -1.3e+03\n",
      "        16        34        28\n",
      "\n"
     ]
    }
   ],
   "source": [
    "C[1,1] = x\n",
    "print(C)"
   ]
  },
  {
   "cell_type": "markdown",
   "metadata": {},
   "source": [
    "## Laboratorijska vježba"
   ]
  },
  {
   "cell_type": "raw",
   "metadata": {},
   "source": [
    "1. Kakva treba biti usporedba double varijabli kako bi uspoređivanje dalo očekivane rezultate? Isprobajte operator == s elementima matrice kao necijelim brojevima, pomnožite i podijelite sa realnim brojem i usporedite s originalom."
   ]
  },
  {
   "cell_type": "code",
   "execution_count": 7,
   "metadata": {},
   "outputs": [
    {
     "name": "stdout",
     "output_type": "stream",
     "text": [
      "True\n",
      "False\n",
      "True\n"
     ]
    }
   ],
   "source": [
    "A = Matrix.create(\"a1.txt\")\n",
    "B = Matrix.create(\"a1.txt\")\n",
    "print(A[1,1] == B[1,1])\n",
    "konst = 0.3245332523245\n",
    "A *= konst\n",
    "A *= 1/konst\n",
    "print(A[1,1] == B[1,1])\n",
    "print(abs(A[1,1]-B[1,1]) < 1e-6)"
   ]
  },
  {
   "cell_type": "raw",
   "metadata": {},
   "source": [
    "2. Riješite sustav zadan matricama u nastavku. Odredite može li se riješiti LU odnosno LUP dekompozicijom: "
   ]
  },
  {
   "cell_type": "code",
   "execution_count": 8,
   "metadata": {},
   "outputs": [
    {
     "name": "stdout",
     "output_type": "stream",
     "text": [
      "         0\n",
      "         0\n",
      "         0\n",
      "\n",
      "         3\n",
      "         1\n",
      "        -1\n",
      "\n"
     ]
    }
   ],
   "source": [
    "A = Matrix.create(\"a1.txt\")\n",
    "b = Matrix.create(\"b1.txt\")\n",
    "x = A.solve(b)\n",
    "\n",
    "A = Matrix.create(\"a1.txt\")\n",
    "print(A * x - b)\n",
    "print(x)"
   ]
  },
  {
   "cell_type": "code",
   "execution_count": 9,
   "metadata": {
    "scrolled": true
   },
   "outputs": [
    {
     "name": "stdout",
     "output_type": "stream",
     "text": [
      "uhvacena iznimka\n",
      "         0\n",
      "         0\n",
      "         0\n",
      "\n",
      "         3\n",
      "         1\n",
      "        -1\n",
      "\n"
     ]
    }
   ],
   "source": [
    "A = Matrix.create(\"a1.txt\")\n",
    "b = Matrix.create(\"b1.txt\")\n",
    "#Matrix.eps = 1e-9\n",
    "try:\n",
    "    x = A.solve(b, p=False)\n",
    "except:\n",
    "    print('uhvacena iznimka')\n",
    "\n",
    "A = Matrix.create(\"a1.txt\")\n",
    "print(A * x - b)\n",
    "print(x)"
   ]
  },
  {
   "cell_type": "raw",
   "metadata": {},
   "source": [
    "Sustav se može riješiti LUP dekompozicijom, ali ne i LU dekompozicijom."
   ]
  },
  {
   "cell_type": "raw",
   "metadata": {},
   "source": [
    "3. Zadanu matricu rastavite na LU odnosno LUP. Ako je ovom matricom predstavljen sustav jednadžbi, može li se sustav riješiti? (sami definirajte slobodni vektor)"
   ]
  },
  {
   "cell_type": "code",
   "execution_count": 18,
   "metadata": {},
   "outputs": [
    {
     "name": "stdout",
     "output_type": "stream",
     "text": [
      "index: 2\n",
      "uhvacena iznimka\n",
      "      0.86\n",
      "      0.43\n",
      "   3.6e-15\n",
      "\n"
     ]
    }
   ],
   "source": [
    "A = Matrix.create(\"a2.txt\")\n",
    "b = Matrix.create(\"b2.txt\")\n",
    "#A.LUPDecomp()\n",
    "#print(A)\n",
    "try:\n",
    "    x = A.solve(b)\n",
    "except:\n",
    "    print('uhvacena iznimka')\n",
    "    \n",
    "A = Matrix.create(\"a2.txt\")\n",
    "print(A * x - b)"
   ]
  },
  {
   "cell_type": "code",
   "execution_count": 11,
   "metadata": {},
   "outputs": [
    {
     "name": "stdout",
     "output_type": "stream",
     "text": [
      "index: 2\n",
      "uhvacena iznimka\n",
      "         1\n",
      "        10\n",
      "        19\n",
      "\n"
     ]
    }
   ],
   "source": [
    "A = Matrix.create(\"a2.txt\")\n",
    "b = Matrix.create(\"b2.txt\")\n",
    "\n",
    "try:\n",
    "    x = A.solve(b, p=False)\n",
    "except:\n",
    "    print('uhvacena iznimka')\n",
    "    \n",
    "A = Matrix.create(\"a2.txt\")\n",
    "print(A * x - b)"
   ]
  },
  {
   "cell_type": "raw",
   "metadata": {},
   "source": [
    "4. Zadani sustav riješite LU te LUP dekompozicijom. Objasnite razliku u rješenjima! (očituje se prilikom uporabe double varijabli)"
   ]
  },
  {
   "cell_type": "code",
   "execution_count": 20,
   "metadata": {},
   "outputs": [
    {
     "name": "stdout",
     "output_type": "stream",
     "text": [
      "         0\n",
      "   1.9e+03\n",
      "   1.8e+03\n",
      "\n",
      "         1\n",
      "         2\n",
      "         3\n",
      "\n"
     ]
    }
   ],
   "source": [
    "A = Matrix.create(\"a3.txt\")\n",
    "b = Matrix.create(\"b3.txt\")\n",
    "try:\n",
    "    x = A.solve(b, p=False)\n",
    "except:\n",
    "    print('uhvacena iznimka')\n",
    "    \n",
    "A = Matrix.create(\"a3.txt\")\n",
    "print(A * x - b)\n",
    "print(x)"
   ]
  },
  {
   "cell_type": "code",
   "execution_count": 19,
   "metadata": {},
   "outputs": [
    {
     "name": "stdout",
     "output_type": "stream",
     "text": [
      "         0\n",
      "         0\n",
      "         0\n",
      "\n",
      "         1\n",
      "         2\n",
      "         3\n",
      "\n"
     ]
    }
   ],
   "source": [
    "A = Matrix.create(\"a3.txt\")\n",
    "b = Matrix.create(\"b3.txt\")\n",
    "try:\n",
    "    x = A.solve(b)\n",
    "except:\n",
    "    print('uhvacena iznimka')\n",
    "    \n",
    "A = Matrix.create(\"a3.txt\")\n",
    "print(A * x - b)\n",
    "print(x)"
   ]
  },
  {
   "cell_type": "raw",
   "metadata": {},
   "source": [
    "Korištenjem LU dekompozicije nastaje greška u izračunu, dok kod LUP to nije slučaj."
   ]
  },
  {
   "cell_type": "raw",
   "metadata": {},
   "source": [
    "5. Zadani sustav riješite odgovarajućom metodom. Objasnite razliku između dobivenog i točnog rješenja. "
   ]
  },
  {
   "cell_type": "code",
   "execution_count": 14,
   "metadata": {},
   "outputs": [
    {
     "name": "stdout",
     "output_type": "stream",
     "text": [
      "   1.8e-15\n",
      "         0\n",
      "         0\n",
      "\n",
      "    -1e-15\n",
      "   5.3e-16\n",
      "         3\n",
      "\n"
     ]
    }
   ],
   "source": [
    "A = Matrix.create(\"a4.txt\")\n",
    "b = Matrix.create(\"b4.txt\")\n",
    "try:\n",
    "    x = A.solve(b)\n",
    "except:\n",
    "    print('uhvacena iznimka')\n",
    "    \n",
    "A = Matrix.create(\"a4.txt\")\n",
    "print(A * x - b)\n",
    "#x = Matrix(3, 1, [[0],[0],[0]])\n",
    "print(x)"
   ]
  },
  {
   "cell_type": "code",
   "execution_count": 15,
   "metadata": {},
   "outputs": [
    {
     "name": "stdout",
     "output_type": "stream",
     "text": [
      "uhvacena iznimka\n",
      "   1.8e-15\n",
      "         0\n",
      "         0\n",
      "\n",
      "    -1e-15\n",
      "   5.3e-16\n",
      "         3\n",
      "\n"
     ]
    }
   ],
   "source": [
    "A = Matrix.create(\"a4.txt\")\n",
    "b = Matrix.create(\"b4.txt\")\n",
    "try:\n",
    "    x = A.solve(b, p=False)\n",
    "except:\n",
    "    print('uhvacena iznimka')\n",
    "    \n",
    "A = Matrix.create(\"a4.txt\")\n",
    "print(A * x - b)\n",
    "print(x)"
   ]
  },
  {
   "cell_type": "raw",
   "metadata": {},
   "source": [
    "6. Rješavanje sljedećeg sustava moglo bi zadati problema vašoj implementaciji. O čemu to ovisi? Kako je moguće izbjeći ovaj problem, transformacijom zadanog sustava tako da rješenje ostane nepromijenjeno? (Napomena: postavite vrijednost epsilona za ovaj primjer na 1e6) "
   ]
  },
  {
   "cell_type": "code",
   "execution_count": 28,
   "metadata": {},
   "outputs": [
    {
     "name": "stdout",
     "output_type": "stream",
     "text": [
      "     4e+09     1e+09     3e+09\n",
      "         4         2         7\n",
      "     3e-10     5e-10     2e-10\n",
      "\n",
      "     9e+09\n",
      "        15\n",
      "   1.5e-09\n",
      "\n",
      "         4         1         3\n",
      "         4         2         7\n",
      "         3         5         2\n",
      "\n",
      "         9\n",
      "        15\n",
      "        15\n",
      "\n",
      "         0\n",
      "         0\n",
      "         0\n",
      "\n",
      "         1\n",
      "         2\n",
      "         1\n",
      "\n"
     ]
    }
   ],
   "source": [
    "A = Matrix.create(\"a5.txt\")\n",
    "b = Matrix.create(\"b5.txt\")\n",
    "Matrix.eps = 1e-6\n",
    "#Matrix.eps = 1e-9\n",
    "\n",
    "print(A)\n",
    "print(b)\n",
    "\n",
    "for i in range(3):\n",
    "    A[(0, i)] /= 1e9\n",
    "    A[(2, i)] *= 1e10\n",
    "    \n",
    "b[0] /= 1e9\n",
    "b[2] *= 1e10 \n",
    "\n",
    "print(A)\n",
    "print(b)\n",
    "\n",
    "try:\n",
    "    x = A.solve(b)\n",
    "except:\n",
    "    print('uhvacena iznimka')\n",
    "    \n",
    "A = Matrix.create(\"a5.txt\")\n",
    "for i in range(3):\n",
    "    A[(0, i)] /= 1e9\n",
    "    A[(2, i)] *= 1e10\n",
    "\n",
    "print(A * x - b)\n",
    "print(x)"
   ]
  },
  {
   "cell_type": "code",
   "execution_count": null,
   "metadata": {},
   "outputs": [],
   "source": []
  },
  {
   "cell_type": "code",
   "execution_count": null,
   "metadata": {},
   "outputs": [],
   "source": []
  }
 ],
 "metadata": {
  "kernelspec": {
   "display_name": "Python 3",
   "language": "python",
   "name": "python3"
  },
  "language_info": {
   "codemirror_mode": {
    "name": "ipython",
    "version": 3
   },
   "file_extension": ".py",
   "mimetype": "text/x-python",
   "name": "python",
   "nbconvert_exporter": "python",
   "pygments_lexer": "ipython3",
   "version": "3.5.2"
  }
 },
 "nbformat": 4,
 "nbformat_minor": 2
}
