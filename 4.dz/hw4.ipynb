{
 "cells": [
  {
   "cell_type": "code",
   "execution_count": 1,
   "metadata": {},
   "outputs": [],
   "source": [
    "from genetic2 import *\n",
    "from functions import *\n",
    "from functools import partial"
   ]
  },
  {
   "cell_type": "code",
   "execution_count": 3,
   "metadata": {},
   "outputs": [
    {
     "name": "stdout",
     "output_type": "stream",
     "text": [
      "0 -61275.2677617\n",
      "1 -469.823088907\n",
      "30 -16.7912017135\n",
      "31 -15.7946436151\n",
      "40 -8.73210158933\n",
      "48 -7.73000448197\n",
      "52 -4.13653751686\n",
      "67 -2.09009266881\n",
      "89 -0.721868527224\n",
      "131 -0.265191721031\n",
      "257 -0.249812866414\n",
      "464 -0.230939321493\n",
      "[ 1.44904866  2.11685769]\n"
     ]
    }
   ],
   "source": [
    "\n",
    "\n",
    "fitness = Fitness(f1, passThroughDecoder)\n",
    "\n",
    "ll = -50.0\n",
    "ul = 150.0\n",
    "sigma = 5\n",
    "pm = 0.1\n",
    "\n",
    "selections = [rouletteWheelSelection]\n",
    "crossovers = [arithmeticCrossover]\n",
    "mutations = [partial(gaussMutation, ll, ul, sigma, pm)]\n",
    "stopCondition = FixedCount(1000).isSatisfied\n",
    "popSize = 30\n",
    "population = np.empty(popSize, dtype=Individual)\n",
    "elitism = True\n",
    "\n",
    "for i in range(popSize):\n",
    "    population[i] = Individual(ll + np.random.rand(2)*(ul - ll))\n",
    "\n",
    "best = GGA(fitness.fitnessOf, selections, crossovers, mutations, \n",
    "    population, stopCondition, elitism)\n",
    "\n",
    "# min = [1, 1]\n",
    "print(best.genes)"
   ]
  },
  {
   "cell_type": "code",
   "execution_count": null,
   "metadata": {},
   "outputs": [],
   "source": []
  },
  {
   "cell_type": "code",
   "execution_count": 2,
   "metadata": {},
   "outputs": [
    {
     "name": "stdout",
     "output_type": "stream",
     "text": [
      "0 -1089091.03199\n",
      "47 -183328.955718\n",
      "99 -23112.5969094\n",
      "119 -16534.6188645\n",
      "358 -5005.46713586\n",
      "470 -3117.56066804\n",
      "690 -922.018287752\n",
      "730 -156.252312302\n",
      "1020 -101.750048931\n",
      "1945 -62.1876305357\n",
      "2753 -12.3605578727\n",
      "[  2.77820081  12.85792966]\n"
     ]
    }
   ],
   "source": [
    "fitness = Fitness(f1, passThroughDecoder)\n",
    "\n",
    "ll = -50.0\n",
    "ul = 150.0\n",
    "sigma = 5\n",
    "pm = 0.1\n",
    "\n",
    "crossovers = [arithmeticCrossover]\n",
    "mutations = [partial(gaussMutation, ll, ul, sigma, pm)]\n",
    "stopCondition = FixedCount(10000).isSatisfied\n",
    "popSize = 30\n",
    "population = np.empty(popSize, dtype=Individual)\n",
    "\n",
    "for i in range(popSize):\n",
    "    population[i] = Individual(ll + np.random.rand(2)*(ul - ll))\n",
    "\n",
    "best = EGA(fitness.fitnessOf, crossovers, mutations, \n",
    "    population, stopCondition)\n",
    "\n",
    "# min = [1, 1]\n",
    "print(best.genes)"
   ]
  },
  {
   "cell_type": "code",
   "execution_count": null,
   "metadata": {},
   "outputs": [],
   "source": []
  }
 ],
 "metadata": {
  "kernelspec": {
   "display_name": "Python 3",
   "language": "python",
   "name": "python3"
  },
  "language_info": {
   "codemirror_mode": {
    "name": "ipython",
    "version": 3
   },
   "file_extension": ".py",
   "mimetype": "text/x-python",
   "name": "python",
   "nbconvert_exporter": "python",
   "pygments_lexer": "ipython3",
   "version": "3.5.2"
  }
 },
 "nbformat": 4,
 "nbformat_minor": 2
}
