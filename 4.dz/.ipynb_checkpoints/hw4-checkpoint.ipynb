{
 "cells": [
  {
   "cell_type": "code",
   "execution_count": 1,
   "metadata": {},
   "outputs": [],
   "source": [
    "from genetic2 import *\n",
    "from functions import *\n",
    "from functools import partial"
   ]
  },
  {
   "cell_type": "code",
   "execution_count": 71,
   "metadata": {},
   "outputs": [
    {
     "name": "stdout",
     "output_type": "stream",
     "text": [
      "0 gen -8735.90279797\n",
      "2 -594.037162329\n",
      "5 -382.526192818\n",
      "6 -366.214009383\n",
      "7 -89.387751936\n",
      "8 -17.2477030473\n",
      "10 -5.32115295245\n",
      "12 -4.16971924427\n",
      "20 -0.224831294582\n",
      "264 -0.018063190234\n",
      "[ 0.90822943  0.83469973]\n"
     ]
    }
   ],
   "source": [
    "\n",
    "\n",
    "fitness = Fitness(f1, passThroughDecoder)\n",
    "\n",
    "ll = -50.0\n",
    "ul = 50.0\n",
    "sigma = 5\n",
    "pm = 0.1\n",
    "\n",
    "selections = [rouletteWheelSelection]\n",
    "crossovers = [arithmeticCrossover]\n",
    "mutations = [partial(gaussMutation, ll, ul, sigma, pm)]\n",
    "stopCondition = FixedCount(1000).isSatisfied\n",
    "popSize = 30\n",
    "population = np.empty(popSize, dtype=Individual)\n",
    "elitism = True\n",
    "\n",
    "for i in range(popSize):\n",
    "    population[i] = Individual(ll + np.random.rand(2)*(ul - ll))\n",
    "\n",
    "best = GGA(fitness.fitnessOf, selections, crossovers, mutations, \n",
    "    population, stopCondition, elitism)\n",
    "\n",
    "# min = [1, 1]\n",
    "print(best.genes)"
   ]
  },
  {
   "cell_type": "code",
   "execution_count": null,
   "metadata": {},
   "outputs": [],
   "source": []
  },
  {
   "cell_type": "code",
   "execution_count": 4,
   "metadata": {},
   "outputs": [
    {
     "data": {
      "text/plain": [
       "<genetic2.Individual at 0x7ff6272ae390>"
      ]
     },
     "execution_count": 4,
     "metadata": {},
     "output_type": "execute_result"
    }
   ],
   "source": [
    "fitness = Fitness(f1, passThroughDecoder)\n",
    "\n",
    "ll = -50.0\n",
    "ul = 50.0\n",
    "sigma = 5\n",
    "pm = 0.1\n",
    "\n",
    "crossovers = [arithmeticCrossover]\n",
    "mutations = [partial(gaussMutation, ll, ul, sigma, pm)]\n",
    "stopCondition = FixedCount(1000).isSatisfied\n",
    "popSize = 30\n",
    "population = np.empty(popSize, dtype=Individual)\n",
    "\n",
    "for i in range(popSize):\n",
    "    population[i] = Individual(ll + np.random.rand(2)*(ul - ll))\n",
    "\n",
    "best = GGA(fitness.fitnessOf, selections, crossovers, mutations, \n",
    "    population, stopCondition, elitism)\n",
    "\n",
    "# min = [1, 1]\n",
    "print(best.genes)"
   ]
  },
  {
   "cell_type": "code",
   "execution_count": null,
   "metadata": {},
   "outputs": [],
   "source": []
  }
 ],
 "metadata": {
  "kernelspec": {
   "display_name": "Python 3",
   "language": "python",
   "name": "python3"
  },
  "language_info": {
   "codemirror_mode": {
    "name": "ipython",
    "version": 3
   },
   "file_extension": ".py",
   "mimetype": "text/x-python",
   "name": "python",
   "nbconvert_exporter": "python",
   "pygments_lexer": "ipython3",
   "version": "3.5.2"
  }
 },
 "nbformat": 4,
 "nbformat_minor": 2
}
