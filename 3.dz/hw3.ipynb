{
 "cells": [
  {
   "cell_type": "code",
   "execution_count": 1,
   "metadata": {
    "scrolled": true
   },
   "outputs": [],
   "source": [
    "from fminunc import *\n",
    "from functions import *\n",
    "from fmincon import *\n",
    "from fminsearch import *"
   ]
  },
  {
   "cell_type": "code",
   "execution_count": 28,
   "metadata": {},
   "outputs": [
    {
     "name": "stdout",
     "output_type": "stream",
     "text": [
      "there was a divergence\n",
      "there was a divergence\n",
      "[  5.00000000e-07   5.00000000e-07] 0.999999000025\n"
     ]
    }
   ],
   "source": [
    "x = (-1.9, 2)\n",
    "# min = (1, 1)\n",
    "\n",
    "y = box(f1, [-100]*2, [100]*2, [f1g1, f1g2], x)\n",
    "print(y, f1(y))"
   ]
  },
  {
   "cell_type": "code",
   "execution_count": 21,
   "metadata": {},
   "outputs": [
    {
     "name": "stdout",
     "output_type": "stream",
     "text": [
      "there was a divergence\n",
      "[ 1.99999962  2.00000076] 4.00000152588\n"
     ]
    }
   ],
   "source": [
    "x = (0.1, 0.3)\n",
    "# min = (4, 2)\n",
    "\n",
    "y = transf_problem(f2, x, alg=hj, hs=[], gs=[f1g1, f1g2])\n",
    "print(y, f2(y))"
   ]
  },
  {
   "cell_type": "code",
   "execution_count": null,
   "metadata": {},
   "outputs": [],
   "source": [
    "transf_problem(f2, (0.1, 0.3), alg=hj, hs=[], gs=[f1g1, f1g2])"
   ]
  },
  {
   "cell_type": "code",
   "execution_count": null,
   "metadata": {},
   "outputs": [],
   "source": [
    "transf_problem(f2, (0.1, 0.3), alg=simplex, hs=[], gs=[f1g1, f1g2])"
   ]
  },
  {
   "cell_type": "code",
   "execution_count": null,
   "metadata": {},
   "outputs": [],
   "source": [
    "#(4,2)\n",
    "xmin3 = box(f2, [-100]*2, [100]*2, [f1g1, f1g2], (0.1,0.3))\n",
    "print(xmin3, f2(xmin3))"
   ]
  },
  {
   "cell_type": "code",
   "execution_count": null,
   "metadata": {
    "scrolled": false
   },
   "outputs": [],
   "source": [
    "#( 1.9, 2)\n",
    "xmin = grad_desc(f4, gf4, (1.9, 2), opt_step=True)"
   ]
  },
  {
   "cell_type": "code",
   "execution_count": null,
   "metadata": {},
   "outputs": [],
   "source": [
    "xmin"
   ]
  },
  {
   "cell_type": "code",
   "execution_count": null,
   "metadata": {},
   "outputs": [],
   "source": [
    "xmin2 = newton(f4, gf4, hf4, (1.9, 2), opt_step=True)"
   ]
  },
  {
   "cell_type": "code",
   "execution_count": null,
   "metadata": {},
   "outputs": [],
   "source": [
    "xmin2"
   ]
  },
  {
   "cell_type": "code",
   "execution_count": null,
   "metadata": {},
   "outputs": [],
   "source": []
  },
  {
   "cell_type": "markdown",
   "metadata": {},
   "source": [
    "## Laboratorijska vježba "
   ]
  },
  {
   "cell_type": "raw",
   "metadata": {},
   "source": [
    "1. Primijenite postupak gradijentnog spusta na funkciju 3, uz i bez određivanja optimalnog iznosa koraka. Što možete zaključiti iz rezultata?"
   ]
  },
  {
   "cell_type": "code",
   "execution_count": 7,
   "metadata": {},
   "outputs": [
    {
     "name": "stdout",
     "output_type": "stream",
     "text": [
      "there was a divergence\n",
      "101 101 [ 4. -6.] 13.0\n",
      "39 2 [ 1.99999984 -2.99999976] 8.08104725402e-14\n"
     ]
    }
   ],
   "source": [
    "x = (0, 0)\n",
    "# min = (2, -3)\n",
    "\n",
    "f = Func(f3)\n",
    "gf = Func(gf3)\n",
    "y = grad_desc(f.valueAt, gf.valueAt, x)\n",
    "print(f.count, gf.count, y, f3(y))\n",
    "\n",
    "f.count = 0\n",
    "gf.count = 0\n",
    "y = grad_desc(f.valueAt, gf.valueAt, x, opt_step=True)\n",
    "print(f.count, gf.count, y, f3(y))"
   ]
  },
  {
   "cell_type": "raw",
   "metadata": {},
   "source": [
    "Bez određivanja optimalnog iznosa koraka postupak gradijentnog spusta ne uspjeva pronaći minimum funcije 3 (divergira)."
   ]
  },
  {
   "cell_type": "code",
   "execution_count": null,
   "metadata": {},
   "outputs": [],
   "source": []
  },
  {
   "cell_type": "raw",
   "metadata": {},
   "source": [
    "2. Primijenite postupak gradijentnog spusta i Newton-Raphsonov postupak na funkcije 1 i 2 s određivanjem optimalnog iznosa koraka. Kako se Newton-Raphsonov postupak ponaša na ovim funkcijama? Ispišite broj izračuna funkcije, gradijenta i Hesseove matrice. "
   ]
  },
  {
   "cell_type": "code",
   "execution_count": 3,
   "metadata": {},
   "outputs": [
    {
     "name": "stdout",
     "output_type": "stream",
     "text": [
      "there was a divergence\n",
      "8297 218 [ 0.98524558  0.97068013] 0.000217775443853\n",
      "566 15 [ 0.99999999  0.99999991] 3.63564915174e-13\n"
     ]
    }
   ],
   "source": [
    "x = (-1.9, 2)\n",
    "# min = (1, 1)\n",
    "\n",
    "f = Func(f1)\n",
    "gf = Func(gf1)\n",
    "hf = Func(hf1)\n",
    "y = grad_desc(f.valueAt, gf.valueAt, x, opt_step=True)\n",
    "print(f.count, gf.count, y, f1(y))\n",
    "\n",
    "f.count = 0\n",
    "gf.count = 0\n",
    "y = newton(f.valueAt, gf.valueAt, hf.valueAt, x, opt_step=True)\n",
    "print(f.count, gf.count, y, f1(y))"
   ]
  },
  {
   "cell_type": "code",
   "execution_count": 4,
   "metadata": {},
   "outputs": [
    {
     "name": "stdout",
     "output_type": "stream",
     "text": [
      "1062 29 [ 3.99999969  1.99999997] 9.98333142348e-14\n",
      "79 2 [ 3.99999979  1.99999991] 7.41939815648e-14\n"
     ]
    }
   ],
   "source": [
    "x = (0.1, 0.3)\n",
    "# min = (4, 2)\n",
    "\n",
    "f = Func(f2)\n",
    "gf = Func(gf2)\n",
    "hf = Func(hf2)\n",
    "y = grad_desc(f.valueAt, gf.valueAt, x, opt_step=True)\n",
    "print(f.count, gf.count, y, f2(y))\n",
    "\n",
    "f.count = 0\n",
    "gf.count = 0\n",
    "y = newton(f.valueAt, gf.valueAt, hf.valueAt, x, opt_step=True)\n",
    "print(f.count, gf.count, y, f2(y))"
   ]
  },
  {
   "cell_type": "raw",
   "metadata": {},
   "source": [
    "Newton-Raphsonov postupak u manje poziva funkcije uspije naći minimum u odnosu na gradijentni spust."
   ]
  },
  {
   "cell_type": "code",
   "execution_count": null,
   "metadata": {},
   "outputs": [],
   "source": []
  },
  {
   "cell_type": "raw",
   "metadata": {},
   "source": [
    "3. Primijenite postupak po Boxu na funkcije 1 i 2 uz implicitna ograničenja: \n",
    "(x2-x1 >= 0), (2-x1 >= 0) i eksplicitna ograničenja prema kojima su sve varijable u intervalu [-100, 100]. Mijenja li se položaj optimuma uz nametnuta ograničenja?"
   ]
  },
  {
   "cell_type": "code",
   "execution_count": 21,
   "metadata": {
    "scrolled": true
   },
   "outputs": [
    {
     "name": "stdout",
     "output_type": "stream",
     "text": [
      "[-2.4677165   6.13252463] 12.209098033\n"
     ]
    }
   ],
   "source": [
    "x = (-1.9, 2)\n",
    "\n",
    "y = box(f1, [-100]*2, [100]*2, [f1g1, f1g2], x)\n",
    "print(y, f1(y))"
   ]
  },
  {
   "cell_type": "code",
   "execution_count": 22,
   "metadata": {},
   "outputs": [
    {
     "name": "stdout",
     "output_type": "stream",
     "text": [
      "there was a divergence\n",
      "[ -1.82460158  43.41250337] 160675.332409\n",
      "4\n",
      "there was a divergence\n",
      "[ 0.5915144   3.04996242] 16.0274584453\n"
     ]
    }
   ],
   "source": [
    "x = (-1.9, 2)\n",
    "# min = (1, 1)\n",
    "\n",
    "y = box(f1, [-100]*2, [100]*2, [f1g1, f1g2], x)\n",
    "print(y, f1(y))\n",
    "\n",
    "x = (0.1, 0.3)\n",
    "# min = (4, 2)\n",
    "\n",
    "print(f2((2,2)))\n",
    "y = box(f2, [-100]*2, [100]*2, [f1g1, f1g2], x)\n",
    "print(y, f2(y))"
   ]
  },
  {
   "cell_type": "code",
   "execution_count": 51,
   "metadata": {},
   "outputs": [
    {
     "name": "stdout",
     "output_type": "stream",
     "text": [
      "[  3.54083363 -22.34991958] 121719.67993\n",
      "[ 16.11081316   0.08756019] 161.301499613\n"
     ]
    }
   ],
   "source": [
    "x = (-1.9, 2)\n",
    "# min = (1, 1)\n",
    "\n",
    "y = box(f1, [-100]*2, [100]*2, [], x)\n",
    "print(y, f1(y))\n",
    "\n",
    "x = (0.1, 0.3)\n",
    "# min = (4, 2)\n",
    "\n",
    "y = box(f2, [-100]*2, [100]*2, [], x)\n",
    "print(y, f2(y))"
   ]
  },
  {
   "cell_type": "raw",
   "metadata": {},
   "source": [
    "4. Primijenite postupak transformacije u problem bez ograničenja na funkcije 1 i 2 s ograničenjima iz prethodnog zadatka ((x2-x1 >= 0), (2-x1 >= 0), zanemarite eksplicitna ograničenja). Novodobiveni problem optimizacije bez ograničenja minimizirajte koristeći postupak Hooke-Jeeves ili postupak simpleksa po Nelderu i Meadu. Može li se uz zadanu početnu točku pronaći optimalno rješenje problema s ograničenjima?\n",
    "Ako ne, probajte odabrati početnu točku iz koje je moguće pronaći rješenje. "
   ]
  },
  {
   "cell_type": "code",
   "execution_count": 53,
   "metadata": {},
   "outputs": [
    {
     "name": "stdout",
     "output_type": "stream",
     "text": [
      "there was a divergence\n",
      "[ 0.03124962  0.03125   ] 1.03012554776\n",
      "there was a divergence\n",
      "[ 1.99999962  2.00000076] 4.00000152588\n"
     ]
    }
   ],
   "source": [
    "x = (-1.9, 2)\n",
    "# min = (1, 1)\n",
    "\n",
    "y = transf_problem(f1, x, alg=hj, hs=[], gs=[f1g1, f1g2])\n",
    "print(y, f1(y))\n",
    "\n",
    "x = (0.1, 0.3)\n",
    "# min = (4, 2)\n",
    "\n",
    "y = transf_problem(f2, x, alg=hj, hs=[], gs=[f1g1, f1g2])\n",
    "print(y, f2(y))"
   ]
  },
  {
   "cell_type": "code",
   "execution_count": 54,
   "metadata": {},
   "outputs": [
    {
     "name": "stdout",
     "output_type": "stream",
     "text": [
      "there was a divergence\n",
      "[ 1.  1.] 0.0\n"
     ]
    }
   ],
   "source": [
    "x = (1.5, 1.5)\n",
    "# min = (1, 1)\n",
    "\n",
    "y = transf_problem(f1, x, alg=hj, hs=[], gs=[f1g1, f1g2])\n",
    "print(y, f1(y))"
   ]
  },
  {
   "cell_type": "code",
   "execution_count": 59,
   "metadata": {},
   "outputs": [
    {
     "name": "stdout",
     "output_type": "stream",
     "text": [
      "there was a divergence\n",
      "[ 0.01011313  0.01011465] 0.989900794205\n",
      "there was a divergence\n",
      "[ 2.          2.01623332] 4.00105408609\n"
     ]
    }
   ],
   "source": [
    "x = (-1.9, 2)\n",
    "# min = (1, 1)\n",
    "\n",
    "y = transf_problem(f1, x, alg=simplex, hs=[], gs=[f1g1, f1g2])\n",
    "print(y, f1(y))\n",
    "\n",
    "x = (0.1, 0.3)\n",
    "# min = (4, 2)\n",
    "\n",
    "y = transf_problem(f2, x, alg=simplex, hs=[], gs=[f1g1, f1g2])\n",
    "print(y, f2(y))"
   ]
  },
  {
   "cell_type": "code",
   "execution_count": 60,
   "metadata": {},
   "outputs": [
    {
     "name": "stdout",
     "output_type": "stream",
     "text": [
      "there was a divergence\n",
      "[ 1.00081544  1.0017394 ] 1.82829235672e-06\n"
     ]
    }
   ],
   "source": [
    "x = (1.5, 1.5)\n",
    "# min = (1, 1)\n",
    "\n",
    "y = transf_problem(f1, x, alg=simplex, hs=[], gs=[f1g1, f1g2])\n",
    "print(y, f1(y))"
   ]
  },
  {
   "cell_type": "raw",
   "metadata": {},
   "source": [
    "5. Za funkciju 4 s ograničenjima (3-x1-x2>=0), (3+1.5*x1-x2>=0) i (x2-1=0) probajte pronaći minimum koristeći postupak transformacije u problem bez ograničenja (također koristite Hooke-Jeeves ili postupak simpleksa po Nelderu i Meadu za minimizaciju). Probajte kao početnu točku postaviti neku točku koja ne zadovoljava ograničenja nejednakosti (primjerice točku (5,5)) te pomoću postupka pronalaženja unutarnje točke odredite drugu točku koja zadovoljava ograničenja nejednakosti te ju iskoristite kao početnu točku za postupak minimizacije. "
   ]
  },
  {
   "cell_type": "code",
   "execution_count": 5,
   "metadata": {},
   "outputs": [
    {
     "name": "stdout",
     "output_type": "stream",
     "text": [
      "there was a divergence\n",
      "[ 2.  1.] 2.0\n",
      "there was a divergence\n",
      "[ 2.  1.] 2.0\n"
     ]
    }
   ],
   "source": [
    "x = (0, 0)\n",
    "# min = (3, 0)\n",
    "\n",
    "y = transf_problem(f4, x, alg=hj, hs=[f4h1], gs=[f4g1, f4g2])\n",
    "print(y, f4(y))\n",
    "\n",
    "x = (5, 5)\n",
    "\n",
    "y = transf_problem(f4, x, alg=hj, hs=[f4h1], gs=[f4g1, f4g2])\n",
    "print(y, f4(y))"
   ]
  },
  {
   "cell_type": "code",
   "execution_count": 64,
   "metadata": {},
   "outputs": [
    {
     "name": "stdout",
     "output_type": "stream",
     "text": [
      "there was a divergence\n",
      "[ 2.  1.] 2.0\n",
      "there was a divergence\n",
      "[ 1.99999973  1.        ] 2.00000053285\n"
     ]
    }
   ],
   "source": [
    "x = (0, 0)\n",
    "# min = (3, 0)\n",
    "\n",
    "y = transf_problem(f4, x, alg=simplex, hs=[f4h1], gs=[f4g1, f4g2])\n",
    "print(y, f4(y))\n",
    "\n",
    "x = (5, 5)\n",
    "\n",
    "y = transf_problem(f4, x, alg=simplex, hs=[f4h1], gs=[f4g1, f4g2])\n",
    "print(y, f4(y))"
   ]
  },
  {
   "cell_type": "code",
   "execution_count": null,
   "metadata": {},
   "outputs": [],
   "source": []
  }
 ],
 "metadata": {
  "kernelspec": {
   "display_name": "Python 3",
   "language": "python",
   "name": "python3"
  },
  "language_info": {
   "codemirror_mode": {
    "name": "ipython",
    "version": 3
   },
   "file_extension": ".py",
   "mimetype": "text/x-python",
   "name": "python",
   "nbconvert_exporter": "python",
   "pygments_lexer": "ipython3",
   "version": "3.5.2"
  }
 },
 "nbformat": 4,
 "nbformat_minor": 2
}
